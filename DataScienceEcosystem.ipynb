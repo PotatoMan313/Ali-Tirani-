{
 "cells": [
  {
   "cell_type": "markdown",
   "id": "b4af90e6-7c2c-4291-a402-426cfe68202d",
   "metadata": {},
   "source": [
    "# Data Science Tools and Ecosystem"
   ]
  },
  {
   "cell_type": "markdown",
   "id": "98cc7e5a-4f99-4f3f-82c6-9fc838455992",
   "metadata": {},
   "source": [
    "In this notebook, Data Science Tools and Ecosystem are summarized."
   ]
  },
  {
   "cell_type": "markdown",
   "id": "8002bc35-9145-4a94-9203-c69b74218428",
   "metadata": {},
   "source": [
    "**Objectives:** \n",
    "- List of popular languages for Data Science\n",
    "- List common used libraries used by data scientists\n",
    "- Evaluate basic arithmetic expressions in Python\n",
    "- List in a table some data science tools"
   ]
  },
  {
   "cell_type": "markdown",
   "id": "44b58b99-6015-4296-bb99-df95db4331e5",
   "metadata": {},
   "source": [
    "Some of the popular languages that Data Scientists use are:\n",
    "1. python\n",
    "2. R\n",
    "3. Julia"
   ]
  },
  {
   "cell_type": "markdown",
   "id": "b294c049-80c5-4e21-b907-da0b03c355cd",
   "metadata": {},
   "source": [
    "Some of the commonly used libraries used by Data Scientists include:\n",
    "1. Pandas\n",
    "2. Matplotlib\n",
    "3. Scikit-learn"
   ]
  },
  {
   "cell_type": "markdown",
   "id": "6b30910f-6217-4ec5-8484-212722aa9ef9",
   "metadata": {},
   "source": [
    "\n",
    "|   Data Science Tools  |\n",
    "| --------------------- |\n",
    "|   JupyterLab  |\n",
    "|  Visual Studio Code   |\n",
    "|   PyCharm Community Edition  |\n"
   ]
  },
  {
   "cell_type": "markdown",
   "id": "0f0ee16f-9b67-4b52-8ba5-699277c2d047",
   "metadata": {},
   "source": [
    "### Below are a few examples of evaluating arithmetic expressions in Python.\n",
    "\n"
   ]
  },
  {
   "cell_type": "code",
   "execution_count": 12,
   "id": "49bd7293-e0e2-47f8-8c42-3a6812fc2684",
   "metadata": {},
   "outputs": [
    {
     "data": {
      "text/plain": [
       "17"
      ]
     },
     "execution_count": 12,
     "metadata": {},
     "output_type": "execute_result"
    }
   ],
   "source": [
    "#This a simple arithmetic expression to mutiply then add integers\n",
    "(3*4)+5"
   ]
  },
  {
   "cell_type": "code",
   "execution_count": 11,
   "id": "8e335cbd-8dc1-41be-8661-91b7e2805932",
   "metadata": {},
   "outputs": [
    {
     "name": "stdout",
     "output_type": "stream",
     "text": [
      "3.3333333333333335 hours\n"
     ]
    }
   ],
   "source": [
    "#This will convert 200 minutes to hours by diving by 60\n",
    "x = str(200 / 60)\n",
    "print( x + \" hours\" )"
   ]
  },
  {
   "cell_type": "markdown",
   "id": "9d08945d-baf0-4b90-9958-a2fce7c62edd",
   "metadata": {
    "jp-MarkdownHeadingCollapsed": true
   },
   "source": [
    "## Author\n",
    "Ali Tirani"
   ]
  }
 ],
 "metadata": {
  "kernelspec": {
   "display_name": "Python 3 (ipykernel)",
   "language": "python",
   "name": "python3"
  },
  "language_info": {
   "codemirror_mode": {
    "name": "ipython",
    "version": 3
   },
   "file_extension": ".py",
   "mimetype": "text/x-python",
   "name": "python",
   "nbconvert_exporter": "python",
   "pygments_lexer": "ipython3",
   "version": "3.12.8"
  }
 },
 "nbformat": 4,
 "nbformat_minor": 5
}
